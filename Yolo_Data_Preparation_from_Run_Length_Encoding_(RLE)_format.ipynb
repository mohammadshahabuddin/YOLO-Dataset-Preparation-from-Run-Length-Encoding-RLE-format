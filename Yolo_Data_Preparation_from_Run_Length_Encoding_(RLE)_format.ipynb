{
  "nbformat": 4,
  "nbformat_minor": 0,
  "metadata": {
    "colab": {
      "provenance": []
    },
    "kernelspec": {
      "name": "python3",
      "display_name": "Python 3"
    },
    "language_info": {
      "name": "python"
    }
  },
  "cells": [
    {
      "cell_type": "code",
      "execution_count": null,
      "metadata": {
        "colab": {
          "base_uri": "https://localhost:8080/"
        },
        "id": "KTt6-CWhhZlx",
        "outputId": "c7e5ce1b-e4fc-4fcd-c5db-6b19e5c8a532"
      },
      "outputs": [
        {
          "output_type": "stream",
          "name": "stdout",
          "text": [
            "['mmmm']\n"
          ]
        }
      ],
      "source": [
        "import pandas as pd\n",
        "import numpy as np\n",
        "import os\n",
        "from PIL import Image\n",
        "\n",
        "# Path to the CSV file and the image folder\n",
        "csv_file = 'ship_dataset_train_v2.csv'\n",
        "image_folder = 'ship_dataset_train_v2/'\n",
        "output_folder = 'yolo_label_ship_train'\n",
        "\n",
        "# Create output folder if it doesn't exist\n",
        "if not os.path.exists(output_folder):\n",
        "    os.makedirs(output_folder)\n",
        "\n",
        "# Load CSV file\n",
        "df = pd.read_csv(csv_file)\n",
        "\n",
        "# Function to decode run-length encoding (RLE)\n",
        "def rle_decode(mask_rle, shape=(768, 768)):\n",
        "    s = mask_rle.split()\n",
        "    starts, lengths = [np.asarray(x, dtype=int) for x in (s[0::2], s[1::2])]\n",
        "    starts -= 1\n",
        "    ends = starts + lengths\n",
        "    img = np.zeros(shape[0] * shape[1], dtype=np.uint8)\n",
        "    for lo, hi in zip(starts, ends):\n",
        "        img[lo:hi] = 1\n",
        "    return img.reshape(shape).T  # Needed to align to the image size\n",
        "\n",
        "# Function to extract bounding boxes from a binary mask\n",
        "def extract_bounding_boxes(mask):\n",
        "    # Find the row and column indices where mask is non-zero\n",
        "    rows = np.any(mask, axis=1)\n",
        "    cols = np.any(mask, axis=0)\n",
        "\n",
        "    if np.any(rows):\n",
        "        ymin, ymax = np.where(rows)[0][[0, -1]]\n",
        "        xmin, xmax = np.where(cols)[0][[0, -1]]\n",
        "        return xmin, ymin, xmax, ymax\n",
        "    else:\n",
        "        return None  # No object found\n",
        "\n",
        "# Function to normalize bounding boxes for YOLO format\n",
        "def normalize_bbox(xmin, ymin, xmax, ymax, img_width, img_height):\n",
        "    x_center = (xmin + xmax) / 2 / img_width\n",
        "    y_center = (ymin + ymax) / 2 / img_height\n",
        "    width = (xmax - xmin) / img_width\n",
        "    height = (ymax - ymin) / img_height\n",
        "    return x_center, y_center, width, height\n",
        "count=0\n",
        "# Process each image in the CSV file\n",
        "for img_id, encoded_pixels in df.groupby('ImageId')['EncodedPixels']:\n",
        "    count+=1\n",
        "    if count%100==0:\n",
        "        break\n",
        "    img_path = os.path.join(image_folder, img_id)\n",
        "\n",
        "    # Skip images without encoded pixels (NaN)\n",
        "    if encoded_pixels.isnull().all():\n",
        "        continue\n",
        "\n",
        "    # Load the image to get its dimensions\n",
        "    img = Image.open(img_path)\n",
        "    img_width, img_height = img.size\n",
        "\n",
        "    # Initialize an empty mask for the current image\n",
        "    final_mask = np.zeros((img_height, img_width), dtype=np.uint8)\n",
        "\n",
        "    # Decode each mask and add it to the final mask\n",
        "    for rle in encoded_pixels.dropna():\n",
        "        final_mask += rle_decode(rle, shape=(img_height, img_width))\n",
        "\n",
        "    # Extract bounding boxes from the mask\n",
        "    bbox = extract_bounding_boxes(final_mask)\n",
        "\n",
        "    if bbox is not None:\n",
        "        xmin, ymin, xmax, ymax = bbox\n",
        "        # Normalize the bounding box for YOLO format\n",
        "        x_center, y_center, width, height = normalize_bbox(xmin, ymin, xmax, ymax, img_width, img_height)\n",
        "\n",
        "        # Create a corresponding .txt file for the YOLO format\n",
        "        yolo_txt_file = os.path.join(output_folder, f\"{os.path.splitext(img_id)[0]}.txt\")\n",
        "        with open(yolo_txt_file, 'w') as f:\n",
        "            # YOLO format: <class_id> <x_center> <y_center> <width> <height>\n",
        "            # Assuming class_id for \"ship\" is 0 (change if needed)\n",
        "            f.write(f\"0 {x_center} {y_center} {width} {height}\\n\")\n",
        "\n",
        "print(\"YOLO .txt files generated successfully!\")\n"
      ]
    }
  ]
}